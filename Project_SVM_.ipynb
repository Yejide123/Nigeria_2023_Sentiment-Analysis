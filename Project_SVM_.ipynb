{
  "cells": [
    {
      "cell_type": "markdown",
      "metadata": {
        "id": "view-in-github",
        "colab_type": "text"
      },
      "source": [
        "<a href=\"https://colab.research.google.com/github/Yejide123/Nigeria_2023_Sentiment-Analysis/blob/main/Project_SVM_.ipynb\" target=\"_parent\"><img src=\"https://colab.research.google.com/assets/colab-badge.svg\" alt=\"Open In Colab\"/></a>"
      ]
    },
    {
      "cell_type": "markdown",
      "source": [
        "# SUPPORT VECTOR MACHINE SENTIMENT ANALYSIS OF 2023 NIGERIA PRESIDENTIAL ELECTION"
      ],
      "metadata": {
        "id": "fhKZEU1XzImr"
      }
    },
    {
      "cell_type": "code",
      "execution_count": null,
      "metadata": {
        "colab": {
          "base_uri": "https://localhost:8080/"
        },
        "id": "pYQE3FsWPDfu",
        "outputId": "c592c4b7-ca18-4492-d869-4275ed8dda7f"
      },
      "outputs": [
        {
          "output_type": "stream",
          "name": "stdout",
          "text": [
            "Mounted at /content/drive\n"
          ]
        }
      ],
      "source": [
        "# import the required libraries\n",
        "import pandas as pd\n",
        "import numpy as np\n",
        "import matplotlib.pyplot as plt\n",
        "import seaborn as sns\n",
        "plt.style.use('ggplot')  # set the style sheet use for plot\n",
        "import re\n",
        "import nltk\n",
        "sns.set()\n",
        "import pandas as pd\n",
        "import pandas as pd\n",
        "from sklearn.model_selection import train_test_split\n",
        "from sklearn.feature_extraction.text import CountVectorizer\n",
        "from sklearn.svm import SVC\n",
        "from sklearn.metrics import classification_report\n",
        "\n",
        "from google.colab import drive\n",
        "drive.mount('/content/drive')\n",
        "path = \"/content/drive/MyDrive/Project_codes/train_labelled_data.csv\" # access the labelled data from project folder\n",
        "train_data = pd.read_csv(path)"
      ]
    },
    {
      "cell_type": "code",
      "execution_count": null,
      "metadata": {
        "colab": {
          "base_uri": "https://localhost:8080/",
          "height": 424
        },
        "id": "gKt8OTETPtrO",
        "outputId": "81cb1142-1225-436f-8079-0195c4d3f971"
      },
      "outputs": [
        {
          "output_type": "execute_result",
          "data": {
            "text/plain": [
              "       Unnamed: 0                                               text  \\\n",
              "0               0  #OBI and #wife storm kastina state today.\\n\\nS...   \n",
              "1               1  If they can’t point to you one project , inves...   \n",
              "2               2  @atiku God with his infinite mercy will never ...   \n",
              "3               3  Governor @RotimiAkeredolu takes Asiwaju Bola A...   \n",
              "4               4      @atiku Salutation is not Love. #Obi is coming   \n",
              "...           ...                                                ...   \n",
              "74039       74559  I received with great sadness reports of the r...   \n",
              "74040       74560  My deepest condolences to his family and the F...   \n",
              "74041       74561  Hon Sunday Zaka truly embodied the Recovery sp...   \n",
              "74042       74562  I just exercised my right to vote. Let’s all d...   \n",
              "74043       74563  I arrived in Yola not long ago, preparatory to...   \n",
              "\n",
              "                                            cleaned_text  scores     label  \n",
              "0      wife storm kastina state todaysee crowd nigeri...  0.6249  positive  \n",
              "1      can ’ t point one project investment vision le...  0.2500  positive  \n",
              "2      god infinite mercy never allow emerge presiden... -0.6874  negative  \n",
              "3      rotimiakeredolu take asiwaju bola ahmed tinubu...  0.0000   neutral  \n",
              "4                               salutation love obi come  0.6369  positive  \n",
              "...                                                  ...     ...       ...  \n",
              "74039  receive great sadness report raze popular maid...  0.3818  positive  \n",
              "74040  deep condolence family fct pdp family may soul...  0.5423  positive  \n",
              "74041  sunday zaka truly embody recovery spirit pdp e...  0.5574  positive  \n",
              "74042  exercise right vote let ’ s part participate s...  0.3818  positive  \n",
              "74043  arrive yola long ago preparatory cast vote sat...  0.0000   neutral  \n",
              "\n",
              "[74044 rows x 5 columns]"
            ],
            "text/html": [
              "\n",
              "  <div id=\"df-6f867f46-c0a4-40f6-b4fc-f8d1719d1188\" class=\"colab-df-container\">\n",
              "    <div>\n",
              "<style scoped>\n",
              "    .dataframe tbody tr th:only-of-type {\n",
              "        vertical-align: middle;\n",
              "    }\n",
              "\n",
              "    .dataframe tbody tr th {\n",
              "        vertical-align: top;\n",
              "    }\n",
              "\n",
              "    .dataframe thead th {\n",
              "        text-align: right;\n",
              "    }\n",
              "</style>\n",
              "<table border=\"1\" class=\"dataframe\">\n",
              "  <thead>\n",
              "    <tr style=\"text-align: right;\">\n",
              "      <th></th>\n",
              "      <th>Unnamed: 0</th>\n",
              "      <th>text</th>\n",
              "      <th>cleaned_text</th>\n",
              "      <th>scores</th>\n",
              "      <th>label</th>\n",
              "    </tr>\n",
              "  </thead>\n",
              "  <tbody>\n",
              "    <tr>\n",
              "      <th>0</th>\n",
              "      <td>0</td>\n",
              "      <td>#OBI and #wife storm kastina state today.\\n\\nS...</td>\n",
              "      <td>wife storm kastina state todaysee crowd nigeri...</td>\n",
              "      <td>0.6249</td>\n",
              "      <td>positive</td>\n",
              "    </tr>\n",
              "    <tr>\n",
              "      <th>1</th>\n",
              "      <td>1</td>\n",
              "      <td>If they can’t point to you one project , inves...</td>\n",
              "      <td>can ’ t point one project investment vision le...</td>\n",
              "      <td>0.2500</td>\n",
              "      <td>positive</td>\n",
              "    </tr>\n",
              "    <tr>\n",
              "      <th>2</th>\n",
              "      <td>2</td>\n",
              "      <td>@atiku God with his infinite mercy will never ...</td>\n",
              "      <td>god infinite mercy never allow emerge presiden...</td>\n",
              "      <td>-0.6874</td>\n",
              "      <td>negative</td>\n",
              "    </tr>\n",
              "    <tr>\n",
              "      <th>3</th>\n",
              "      <td>3</td>\n",
              "      <td>Governor @RotimiAkeredolu takes Asiwaju Bola A...</td>\n",
              "      <td>rotimiakeredolu take asiwaju bola ahmed tinubu...</td>\n",
              "      <td>0.0000</td>\n",
              "      <td>neutral</td>\n",
              "    </tr>\n",
              "    <tr>\n",
              "      <th>4</th>\n",
              "      <td>4</td>\n",
              "      <td>@atiku Salutation is not Love. #Obi is coming</td>\n",
              "      <td>salutation love obi come</td>\n",
              "      <td>0.6369</td>\n",
              "      <td>positive</td>\n",
              "    </tr>\n",
              "    <tr>\n",
              "      <th>...</th>\n",
              "      <td>...</td>\n",
              "      <td>...</td>\n",
              "      <td>...</td>\n",
              "      <td>...</td>\n",
              "      <td>...</td>\n",
              "    </tr>\n",
              "    <tr>\n",
              "      <th>74039</th>\n",
              "      <td>74559</td>\n",
              "      <td>I received with great sadness reports of the r...</td>\n",
              "      <td>receive great sadness report raze popular maid...</td>\n",
              "      <td>0.3818</td>\n",
              "      <td>positive</td>\n",
              "    </tr>\n",
              "    <tr>\n",
              "      <th>74040</th>\n",
              "      <td>74560</td>\n",
              "      <td>My deepest condolences to his family and the F...</td>\n",
              "      <td>deep condolence family fct pdp family may soul...</td>\n",
              "      <td>0.5423</td>\n",
              "      <td>positive</td>\n",
              "    </tr>\n",
              "    <tr>\n",
              "      <th>74041</th>\n",
              "      <td>74561</td>\n",
              "      <td>Hon Sunday Zaka truly embodied the Recovery sp...</td>\n",
              "      <td>sunday zaka truly embody recovery spirit pdp e...</td>\n",
              "      <td>0.5574</td>\n",
              "      <td>positive</td>\n",
              "    </tr>\n",
              "    <tr>\n",
              "      <th>74042</th>\n",
              "      <td>74562</td>\n",
              "      <td>I just exercised my right to vote. Let’s all d...</td>\n",
              "      <td>exercise right vote let ’ s part participate s...</td>\n",
              "      <td>0.3818</td>\n",
              "      <td>positive</td>\n",
              "    </tr>\n",
              "    <tr>\n",
              "      <th>74043</th>\n",
              "      <td>74563</td>\n",
              "      <td>I arrived in Yola not long ago, preparatory to...</td>\n",
              "      <td>arrive yola long ago preparatory cast vote sat...</td>\n",
              "      <td>0.0000</td>\n",
              "      <td>neutral</td>\n",
              "    </tr>\n",
              "  </tbody>\n",
              "</table>\n",
              "<p>74044 rows × 5 columns</p>\n",
              "</div>\n",
              "    <div class=\"colab-df-buttons\">\n",
              "\n",
              "  <div class=\"colab-df-container\">\n",
              "    <button class=\"colab-df-convert\" onclick=\"convertToInteractive('df-6f867f46-c0a4-40f6-b4fc-f8d1719d1188')\"\n",
              "            title=\"Convert this dataframe to an interactive table.\"\n",
              "            style=\"display:none;\">\n",
              "\n",
              "  <svg xmlns=\"http://www.w3.org/2000/svg\" height=\"24px\" viewBox=\"0 -960 960 960\">\n",
              "    <path d=\"M120-120v-720h720v720H120Zm60-500h600v-160H180v160Zm220 220h160v-160H400v160Zm0 220h160v-160H400v160ZM180-400h160v-160H180v160Zm440 0h160v-160H620v160ZM180-180h160v-160H180v160Zm440 0h160v-160H620v160Z\"/>\n",
              "  </svg>\n",
              "    </button>\n",
              "\n",
              "  <style>\n",
              "    .colab-df-container {\n",
              "      display:flex;\n",
              "      gap: 12px;\n",
              "    }\n",
              "\n",
              "    .colab-df-convert {\n",
              "      background-color: #E8F0FE;\n",
              "      border: none;\n",
              "      border-radius: 50%;\n",
              "      cursor: pointer;\n",
              "      display: none;\n",
              "      fill: #1967D2;\n",
              "      height: 32px;\n",
              "      padding: 0 0 0 0;\n",
              "      width: 32px;\n",
              "    }\n",
              "\n",
              "    .colab-df-convert:hover {\n",
              "      background-color: #E2EBFA;\n",
              "      box-shadow: 0px 1px 2px rgba(60, 64, 67, 0.3), 0px 1px 3px 1px rgba(60, 64, 67, 0.15);\n",
              "      fill: #174EA6;\n",
              "    }\n",
              "\n",
              "    .colab-df-buttons div {\n",
              "      margin-bottom: 4px;\n",
              "    }\n",
              "\n",
              "    [theme=dark] .colab-df-convert {\n",
              "      background-color: #3B4455;\n",
              "      fill: #D2E3FC;\n",
              "    }\n",
              "\n",
              "    [theme=dark] .colab-df-convert:hover {\n",
              "      background-color: #434B5C;\n",
              "      box-shadow: 0px 1px 3px 1px rgba(0, 0, 0, 0.15);\n",
              "      filter: drop-shadow(0px 1px 2px rgba(0, 0, 0, 0.3));\n",
              "      fill: #FFFFFF;\n",
              "    }\n",
              "  </style>\n",
              "\n",
              "    <script>\n",
              "      const buttonEl =\n",
              "        document.querySelector('#df-6f867f46-c0a4-40f6-b4fc-f8d1719d1188 button.colab-df-convert');\n",
              "      buttonEl.style.display =\n",
              "        google.colab.kernel.accessAllowed ? 'block' : 'none';\n",
              "\n",
              "      async function convertToInteractive(key) {\n",
              "        const element = document.querySelector('#df-6f867f46-c0a4-40f6-b4fc-f8d1719d1188');\n",
              "        const dataTable =\n",
              "          await google.colab.kernel.invokeFunction('convertToInteractive',\n",
              "                                                    [key], {});\n",
              "        if (!dataTable) return;\n",
              "\n",
              "        const docLinkHtml = 'Like what you see? Visit the ' +\n",
              "          '<a target=\"_blank\" href=https://colab.research.google.com/notebooks/data_table.ipynb>data table notebook</a>'\n",
              "          + ' to learn more about interactive tables.';\n",
              "        element.innerHTML = '';\n",
              "        dataTable['output_type'] = 'display_data';\n",
              "        await google.colab.output.renderOutput(dataTable, element);\n",
              "        const docLink = document.createElement('div');\n",
              "        docLink.innerHTML = docLinkHtml;\n",
              "        element.appendChild(docLink);\n",
              "      }\n",
              "    </script>\n",
              "  </div>\n",
              "\n",
              "\n",
              "<div id=\"df-a737b6e2-c538-44ba-afd1-49713d64ddab\">\n",
              "  <button class=\"colab-df-quickchart\" onclick=\"quickchart('df-a737b6e2-c538-44ba-afd1-49713d64ddab')\"\n",
              "            title=\"Suggest charts\"\n",
              "            style=\"display:none;\">\n",
              "\n",
              "<svg xmlns=\"http://www.w3.org/2000/svg\" height=\"24px\"viewBox=\"0 0 24 24\"\n",
              "     width=\"24px\">\n",
              "    <g>\n",
              "        <path d=\"M19 3H5c-1.1 0-2 .9-2 2v14c0 1.1.9 2 2 2h14c1.1 0 2-.9 2-2V5c0-1.1-.9-2-2-2zM9 17H7v-7h2v7zm4 0h-2V7h2v10zm4 0h-2v-4h2v4z\"/>\n",
              "    </g>\n",
              "</svg>\n",
              "  </button>\n",
              "\n",
              "<style>\n",
              "  .colab-df-quickchart {\n",
              "      --bg-color: #E8F0FE;\n",
              "      --fill-color: #1967D2;\n",
              "      --hover-bg-color: #E2EBFA;\n",
              "      --hover-fill-color: #174EA6;\n",
              "      --disabled-fill-color: #AAA;\n",
              "      --disabled-bg-color: #DDD;\n",
              "  }\n",
              "\n",
              "  [theme=dark] .colab-df-quickchart {\n",
              "      --bg-color: #3B4455;\n",
              "      --fill-color: #D2E3FC;\n",
              "      --hover-bg-color: #434B5C;\n",
              "      --hover-fill-color: #FFFFFF;\n",
              "      --disabled-bg-color: #3B4455;\n",
              "      --disabled-fill-color: #666;\n",
              "  }\n",
              "\n",
              "  .colab-df-quickchart {\n",
              "    background-color: var(--bg-color);\n",
              "    border: none;\n",
              "    border-radius: 50%;\n",
              "    cursor: pointer;\n",
              "    display: none;\n",
              "    fill: var(--fill-color);\n",
              "    height: 32px;\n",
              "    padding: 0;\n",
              "    width: 32px;\n",
              "  }\n",
              "\n",
              "  .colab-df-quickchart:hover {\n",
              "    background-color: var(--hover-bg-color);\n",
              "    box-shadow: 0 1px 2px rgba(60, 64, 67, 0.3), 0 1px 3px 1px rgba(60, 64, 67, 0.15);\n",
              "    fill: var(--button-hover-fill-color);\n",
              "  }\n",
              "\n",
              "  .colab-df-quickchart-complete:disabled,\n",
              "  .colab-df-quickchart-complete:disabled:hover {\n",
              "    background-color: var(--disabled-bg-color);\n",
              "    fill: var(--disabled-fill-color);\n",
              "    box-shadow: none;\n",
              "  }\n",
              "\n",
              "  .colab-df-spinner {\n",
              "    border: 2px solid var(--fill-color);\n",
              "    border-color: transparent;\n",
              "    border-bottom-color: var(--fill-color);\n",
              "    animation:\n",
              "      spin 1s steps(1) infinite;\n",
              "  }\n",
              "\n",
              "  @keyframes spin {\n",
              "    0% {\n",
              "      border-color: transparent;\n",
              "      border-bottom-color: var(--fill-color);\n",
              "      border-left-color: var(--fill-color);\n",
              "    }\n",
              "    20% {\n",
              "      border-color: transparent;\n",
              "      border-left-color: var(--fill-color);\n",
              "      border-top-color: var(--fill-color);\n",
              "    }\n",
              "    30% {\n",
              "      border-color: transparent;\n",
              "      border-left-color: var(--fill-color);\n",
              "      border-top-color: var(--fill-color);\n",
              "      border-right-color: var(--fill-color);\n",
              "    }\n",
              "    40% {\n",
              "      border-color: transparent;\n",
              "      border-right-color: var(--fill-color);\n",
              "      border-top-color: var(--fill-color);\n",
              "    }\n",
              "    60% {\n",
              "      border-color: transparent;\n",
              "      border-right-color: var(--fill-color);\n",
              "    }\n",
              "    80% {\n",
              "      border-color: transparent;\n",
              "      border-right-color: var(--fill-color);\n",
              "      border-bottom-color: var(--fill-color);\n",
              "    }\n",
              "    90% {\n",
              "      border-color: transparent;\n",
              "      border-bottom-color: var(--fill-color);\n",
              "    }\n",
              "  }\n",
              "</style>\n",
              "\n",
              "  <script>\n",
              "    async function quickchart(key) {\n",
              "      const quickchartButtonEl =\n",
              "        document.querySelector('#' + key + ' button');\n",
              "      quickchartButtonEl.disabled = true;  // To prevent multiple clicks.\n",
              "      quickchartButtonEl.classList.add('colab-df-spinner');\n",
              "      try {\n",
              "        const charts = await google.colab.kernel.invokeFunction(\n",
              "            'suggestCharts', [key], {});\n",
              "      } catch (error) {\n",
              "        console.error('Error during call to suggestCharts:', error);\n",
              "      }\n",
              "      quickchartButtonEl.classList.remove('colab-df-spinner');\n",
              "      quickchartButtonEl.classList.add('colab-df-quickchart-complete');\n",
              "    }\n",
              "    (() => {\n",
              "      let quickchartButtonEl =\n",
              "        document.querySelector('#df-a737b6e2-c538-44ba-afd1-49713d64ddab button');\n",
              "      quickchartButtonEl.style.display =\n",
              "        google.colab.kernel.accessAllowed ? 'block' : 'none';\n",
              "    })();\n",
              "  </script>\n",
              "</div>\n",
              "    </div>\n",
              "  </div>\n"
            ]
          },
          "metadata": {},
          "execution_count": 2
        }
      ],
      "source": [
        "train_data"
      ]
    },
    {
      "cell_type": "code",
      "execution_count": null,
      "metadata": {
        "id": "rRW2VzvIPwdX"
      },
      "outputs": [],
      "source": [
        " # Divide the train data into independant (x) and depanadant  (y)\n",
        "X = train_data['cleaned_text']\n",
        "y = train_data['label']"
      ]
    },
    {
      "cell_type": "markdown",
      "metadata": {
        "id": "PpW-exSw5Z0N"
      },
      "source": [
        "USING SUPPORT VECTOR **MACHINE** **bold text**"
      ]
    },
    {
      "cell_type": "code",
      "source": [
        "from sklearn.feature_extraction.text import CountVectorizer\n",
        "from sklearn.impute import SimpleImputer\n",
        "from sklearn.model_selection import train_test_split\n",
        "from imblearn.over_sampling import SMOTE\n",
        "\n",
        "\n",
        "# Split the data into train and test\n",
        "X_train, X_test, y_train, y_test = train_test_split(X, y, test_size=0.2, random_state=42)\n",
        "\n",
        "# Reshape text data to be 2D\n",
        "X_train_reshaped = np.array(X_train).reshape(-1, 1)\n",
        "X_test_reshaped = np.array(X_test).reshape(-1, 1)\n",
        "\n",
        "# Impute missing values\n",
        "imputer = SimpleImputer(strategy='constant', fill_value='')\n",
        "X_train_imputed = imputer.fit_transform(X_train_reshaped)\n",
        "X_test_imputed = imputer.transform(X_test_reshaped)\n",
        "\n",
        "# Convert text data into numerical feature vectors before applying SMOTE\n",
        "vectorizer = CountVectorizer()\n",
        "X_train = vectorizer.fit_transform(X_train_imputed.flatten())  # Flatten back to 1D after imputation\n",
        "X_test = vectorizer.transform(X_test_imputed.flatten())\n",
        "\n",
        "# Apply SMOTE to balance the class distribution\n",
        "smote = SMOTE(sampling_strategy='auto', random_state=42)\n",
        "X_train_resampled, y_train_resampled = smote.fit_resample(X_train, y_train)\n",
        "\n",
        "# Train an SVM classifier\n",
        "\n",
        "svm_classifier = SVC(kernel='linear')\n",
        "svm_classifier.fit(X_train_resampled, y_train_resampled)\n",
        "\n"
      ],
      "metadata": {
        "colab": {
          "base_uri": "https://localhost:8080/",
          "height": 75
        },
        "id": "T6RLu-xNZVf2",
        "outputId": "aac67a98-4d57-4f61-dde3-3b7e50fca260"
      },
      "execution_count": null,
      "outputs": [
        {
          "output_type": "execute_result",
          "data": {
            "text/plain": [
              "SVC(kernel='linear')"
            ],
            "text/html": [
              "<style>#sk-container-id-1 {color: black;background-color: white;}#sk-container-id-1 pre{padding: 0;}#sk-container-id-1 div.sk-toggleable {background-color: white;}#sk-container-id-1 label.sk-toggleable__label {cursor: pointer;display: block;width: 100%;margin-bottom: 0;padding: 0.3em;box-sizing: border-box;text-align: center;}#sk-container-id-1 label.sk-toggleable__label-arrow:before {content: \"▸\";float: left;margin-right: 0.25em;color: #696969;}#sk-container-id-1 label.sk-toggleable__label-arrow:hover:before {color: black;}#sk-container-id-1 div.sk-estimator:hover label.sk-toggleable__label-arrow:before {color: black;}#sk-container-id-1 div.sk-toggleable__content {max-height: 0;max-width: 0;overflow: hidden;text-align: left;background-color: #f0f8ff;}#sk-container-id-1 div.sk-toggleable__content pre {margin: 0.2em;color: black;border-radius: 0.25em;background-color: #f0f8ff;}#sk-container-id-1 input.sk-toggleable__control:checked~div.sk-toggleable__content {max-height: 200px;max-width: 100%;overflow: auto;}#sk-container-id-1 input.sk-toggleable__control:checked~label.sk-toggleable__label-arrow:before {content: \"▾\";}#sk-container-id-1 div.sk-estimator input.sk-toggleable__control:checked~label.sk-toggleable__label {background-color: #d4ebff;}#sk-container-id-1 div.sk-label input.sk-toggleable__control:checked~label.sk-toggleable__label {background-color: #d4ebff;}#sk-container-id-1 input.sk-hidden--visually {border: 0;clip: rect(1px 1px 1px 1px);clip: rect(1px, 1px, 1px, 1px);height: 1px;margin: -1px;overflow: hidden;padding: 0;position: absolute;width: 1px;}#sk-container-id-1 div.sk-estimator {font-family: monospace;background-color: #f0f8ff;border: 1px dotted black;border-radius: 0.25em;box-sizing: border-box;margin-bottom: 0.5em;}#sk-container-id-1 div.sk-estimator:hover {background-color: #d4ebff;}#sk-container-id-1 div.sk-parallel-item::after {content: \"\";width: 100%;border-bottom: 1px solid gray;flex-grow: 1;}#sk-container-id-1 div.sk-label:hover label.sk-toggleable__label {background-color: #d4ebff;}#sk-container-id-1 div.sk-serial::before {content: \"\";position: absolute;border-left: 1px solid gray;box-sizing: border-box;top: 0;bottom: 0;left: 50%;z-index: 0;}#sk-container-id-1 div.sk-serial {display: flex;flex-direction: column;align-items: center;background-color: white;padding-right: 0.2em;padding-left: 0.2em;position: relative;}#sk-container-id-1 div.sk-item {position: relative;z-index: 1;}#sk-container-id-1 div.sk-parallel {display: flex;align-items: stretch;justify-content: center;background-color: white;position: relative;}#sk-container-id-1 div.sk-item::before, #sk-container-id-1 div.sk-parallel-item::before {content: \"\";position: absolute;border-left: 1px solid gray;box-sizing: border-box;top: 0;bottom: 0;left: 50%;z-index: -1;}#sk-container-id-1 div.sk-parallel-item {display: flex;flex-direction: column;z-index: 1;position: relative;background-color: white;}#sk-container-id-1 div.sk-parallel-item:first-child::after {align-self: flex-end;width: 50%;}#sk-container-id-1 div.sk-parallel-item:last-child::after {align-self: flex-start;width: 50%;}#sk-container-id-1 div.sk-parallel-item:only-child::after {width: 0;}#sk-container-id-1 div.sk-dashed-wrapped {border: 1px dashed gray;margin: 0 0.4em 0.5em 0.4em;box-sizing: border-box;padding-bottom: 0.4em;background-color: white;}#sk-container-id-1 div.sk-label label {font-family: monospace;font-weight: bold;display: inline-block;line-height: 1.2em;}#sk-container-id-1 div.sk-label-container {text-align: center;}#sk-container-id-1 div.sk-container {/* jupyter's `normalize.less` sets `[hidden] { display: none; }` but bootstrap.min.css set `[hidden] { display: none !important; }` so we also need the `!important` here to be able to override the default hidden behavior on the sphinx rendered scikit-learn.org. See: https://github.com/scikit-learn/scikit-learn/issues/21755 */display: inline-block !important;position: relative;}#sk-container-id-1 div.sk-text-repr-fallback {display: none;}</style><div id=\"sk-container-id-1\" class=\"sk-top-container\"><div class=\"sk-text-repr-fallback\"><pre>SVC(kernel=&#x27;linear&#x27;)</pre><b>In a Jupyter environment, please rerun this cell to show the HTML representation or trust the notebook. <br />On GitHub, the HTML representation is unable to render, please try loading this page with nbviewer.org.</b></div><div class=\"sk-container\" hidden><div class=\"sk-item\"><div class=\"sk-estimator sk-toggleable\"><input class=\"sk-toggleable__control sk-hidden--visually\" id=\"sk-estimator-id-1\" type=\"checkbox\" checked><label for=\"sk-estimator-id-1\" class=\"sk-toggleable__label sk-toggleable__label-arrow\">SVC</label><div class=\"sk-toggleable__content\"><pre>SVC(kernel=&#x27;linear&#x27;)</pre></div></div></div></div></div>"
            ]
          },
          "metadata": {},
          "execution_count": 5
        }
      ]
    },
    {
      "cell_type": "code",
      "execution_count": null,
      "metadata": {
        "id": "hvc97sgWzsD5",
        "colab": {
          "base_uri": "https://localhost:8080/"
        },
        "outputId": "a54558d9-6361-417c-c182-b1de6c4b35dd"
      },
      "outputs": [
        {
          "output_type": "stream",
          "name": "stdout",
          "text": [
            "              precision    recall  f1-score   support\n",
            "\n",
            "    negative       0.66      0.78      0.71      2389\n",
            "     neutral       0.92      0.83      0.87      4723\n",
            "    positive       0.92      0.92      0.92      5317\n",
            "\n",
            "    accuracy                           0.86     12429\n",
            "   macro avg       0.83      0.84      0.84     12429\n",
            "weighted avg       0.87      0.86      0.86     12429\n",
            "\n"
          ]
        }
      ],
      "source": [
        "#  run the model to predict the test data\n",
        "predictions = svm_classifier.predict(X_test)\n",
        "\n",
        "# Generate the classification report to evaluate the model\n",
        "print(classification_report(y_test, predictions))"
      ]
    },
    {
      "cell_type": "markdown",
      "metadata": {
        "id": "3Ax4gC4tzsqz"
      },
      "source": [
        "\n",
        "\n",
        "Human SVM Evaluation\n",
        "\n"
      ]
    },
    {
      "cell_type": "code",
      "execution_count": null,
      "metadata": {
        "id": "bp9jvWO3qXFb",
        "colab": {
          "base_uri": "https://localhost:8080/",
          "height": 98
        },
        "outputId": "a6f25642-d740-473a-9170-dd1f1943e1d6"
      },
      "outputs": [
        {
          "output_type": "stream",
          "name": "stdout",
          "text": [
            "['positive' 'negative' 'positive']\n"
          ]
        },
        {
          "output_type": "execute_result",
          "data": {
            "text/plain": [
              "      Happy       Sad      Okay\n",
              "0  positive  negative  positive"
            ],
            "text/html": [
              "\n",
              "  <div id=\"df-4ffdd8c6-8f04-44cf-8ca9-44e4ac46c5cf\" class=\"colab-df-container\">\n",
              "    <div>\n",
              "<style scoped>\n",
              "    .dataframe tbody tr th:only-of-type {\n",
              "        vertical-align: middle;\n",
              "    }\n",
              "\n",
              "    .dataframe tbody tr th {\n",
              "        vertical-align: top;\n",
              "    }\n",
              "\n",
              "    .dataframe thead th {\n",
              "        text-align: right;\n",
              "    }\n",
              "</style>\n",
              "<table border=\"1\" class=\"dataframe\">\n",
              "  <thead>\n",
              "    <tr style=\"text-align: right;\">\n",
              "      <th></th>\n",
              "      <th>Happy</th>\n",
              "      <th>Sad</th>\n",
              "      <th>Okay</th>\n",
              "    </tr>\n",
              "  </thead>\n",
              "  <tbody>\n",
              "    <tr>\n",
              "      <th>0</th>\n",
              "      <td>positive</td>\n",
              "      <td>negative</td>\n",
              "      <td>positive</td>\n",
              "    </tr>\n",
              "  </tbody>\n",
              "</table>\n",
              "</div>\n",
              "    <div class=\"colab-df-buttons\">\n",
              "\n",
              "  <div class=\"colab-df-container\">\n",
              "    <button class=\"colab-df-convert\" onclick=\"convertToInteractive('df-4ffdd8c6-8f04-44cf-8ca9-44e4ac46c5cf')\"\n",
              "            title=\"Convert this dataframe to an interactive table.\"\n",
              "            style=\"display:none;\">\n",
              "\n",
              "  <svg xmlns=\"http://www.w3.org/2000/svg\" height=\"24px\" viewBox=\"0 -960 960 960\">\n",
              "    <path d=\"M120-120v-720h720v720H120Zm60-500h600v-160H180v160Zm220 220h160v-160H400v160Zm0 220h160v-160H400v160ZM180-400h160v-160H180v160Zm440 0h160v-160H620v160ZM180-180h160v-160H180v160Zm440 0h160v-160H620v160Z\"/>\n",
              "  </svg>\n",
              "    </button>\n",
              "\n",
              "  <style>\n",
              "    .colab-df-container {\n",
              "      display:flex;\n",
              "      gap: 12px;\n",
              "    }\n",
              "\n",
              "    .colab-df-convert {\n",
              "      background-color: #E8F0FE;\n",
              "      border: none;\n",
              "      border-radius: 50%;\n",
              "      cursor: pointer;\n",
              "      display: none;\n",
              "      fill: #1967D2;\n",
              "      height: 32px;\n",
              "      padding: 0 0 0 0;\n",
              "      width: 32px;\n",
              "    }\n",
              "\n",
              "    .colab-df-convert:hover {\n",
              "      background-color: #E2EBFA;\n",
              "      box-shadow: 0px 1px 2px rgba(60, 64, 67, 0.3), 0px 1px 3px 1px rgba(60, 64, 67, 0.15);\n",
              "      fill: #174EA6;\n",
              "    }\n",
              "\n",
              "    .colab-df-buttons div {\n",
              "      margin-bottom: 4px;\n",
              "    }\n",
              "\n",
              "    [theme=dark] .colab-df-convert {\n",
              "      background-color: #3B4455;\n",
              "      fill: #D2E3FC;\n",
              "    }\n",
              "\n",
              "    [theme=dark] .colab-df-convert:hover {\n",
              "      background-color: #434B5C;\n",
              "      box-shadow: 0px 1px 3px 1px rgba(0, 0, 0, 0.15);\n",
              "      filter: drop-shadow(0px 1px 2px rgba(0, 0, 0, 0.3));\n",
              "      fill: #FFFFFF;\n",
              "    }\n",
              "  </style>\n",
              "\n",
              "    <script>\n",
              "      const buttonEl =\n",
              "        document.querySelector('#df-4ffdd8c6-8f04-44cf-8ca9-44e4ac46c5cf button.colab-df-convert');\n",
              "      buttonEl.style.display =\n",
              "        google.colab.kernel.accessAllowed ? 'block' : 'none';\n",
              "\n",
              "      async function convertToInteractive(key) {\n",
              "        const element = document.querySelector('#df-4ffdd8c6-8f04-44cf-8ca9-44e4ac46c5cf');\n",
              "        const dataTable =\n",
              "          await google.colab.kernel.invokeFunction('convertToInteractive',\n",
              "                                                    [key], {});\n",
              "        if (!dataTable) return;\n",
              "\n",
              "        const docLinkHtml = 'Like what you see? Visit the ' +\n",
              "          '<a target=\"_blank\" href=https://colab.research.google.com/notebooks/data_table.ipynb>data table notebook</a>'\n",
              "          + ' to learn more about interactive tables.';\n",
              "        element.innerHTML = '';\n",
              "        dataTable['output_type'] = 'display_data';\n",
              "        await google.colab.output.renderOutput(dataTable, element);\n",
              "        const docLink = document.createElement('div');\n",
              "        docLink.innerHTML = docLinkHtml;\n",
              "        element.appendChild(docLink);\n",
              "      }\n",
              "    </script>\n",
              "  </div>\n",
              "\n",
              "    </div>\n",
              "  </div>\n"
            ]
          },
          "metadata": {},
          "execution_count": 27
        }
      ],
      "source": [
        "# Predict sentiment on sample data list for human evaluation\n",
        "predictions = svm_classifier.predict(X_test)\n",
        "new_text = [\"Happy\", \"Sad\", \"Okay\"]\n",
        "new_features = vectorizer.transform(new_text)\n",
        "new_predictions = svm_classifier.predict(new_features)\n",
        "print(new_predictions)\n",
        "SVM_Sample = pd.DataFrame(np.column_stack(new_predictions),\n",
        "                               columns=new_text)\n",
        "SVM_Sample\n"
      ]
    },
    {
      "cell_type": "markdown",
      "source": [
        "Tinubu's data Sentiment Analysis"
      ],
      "metadata": {
        "id": "jiHisFah0PIT"
      }
    },
    {
      "cell_type": "code",
      "source": [
        "path =  '/content/drive/MyDrive/Project_codes/Tinubu_cleaned_dataset.csv'\n",
        "Tinubu_data = pd.read_csv(path) # read in Tinubu's processed data\n",
        "\n",
        "\n",
        "Tinubu_data = Tinubu_data.replace(np.nan, '', regex=True)\n",
        "Tinubu_text = Tinubu_data['cleaned_text'].tolist() # extra out and store the list of the cleaned data column\n",
        "\n",
        "new_features = vectorizer.transform(Tinubu_text)\n",
        "new_predictions = svm_classifier.predict(new_features) # Get the predicted sentiment\n",
        "#new_predictions.to_csv('/content/drive/MyDrive/Project_codes/svm_output_tinubu.csv')"
      ],
      "metadata": {
        "id": "sR5m3qn3aOxL"
      },
      "execution_count": null,
      "outputs": []
    },
    {
      "cell_type": "code",
      "execution_count": null,
      "metadata": {
        "colab": {
          "base_uri": "https://localhost:8080/",
          "height": 424
        },
        "id": "ew1H41J4RVwV",
        "outputId": "a72f0449-ccd0-4236-f49f-b94463284ca8"
      },
      "outputs": [
        {
          "data": {
            "text/html": [
              "\n",
              "  <div id=\"df-6856ea0d-71e8-437f-a935-ba2248cb4ae6\" class=\"colab-df-container\">\n",
              "    <div>\n",
              "<style scoped>\n",
              "    .dataframe tbody tr th:only-of-type {\n",
              "        vertical-align: middle;\n",
              "    }\n",
              "\n",
              "    .dataframe tbody tr th {\n",
              "        vertical-align: top;\n",
              "    }\n",
              "\n",
              "    .dataframe thead th {\n",
              "        text-align: right;\n",
              "    }\n",
              "</style>\n",
              "<table border=\"1\" class=\"dataframe\">\n",
              "  <thead>\n",
              "    <tr style=\"text-align: right;\">\n",
              "      <th></th>\n",
              "      <th>Unnamed: 0</th>\n",
              "      <th>Tweet_Text</th>\n",
              "      <th>cleaned_text</th>\n",
              "      <th>Predict_label</th>\n",
              "    </tr>\n",
              "  </thead>\n",
              "  <tbody>\n",
              "    <tr>\n",
              "      <th>0</th>\n",
              "      <td>0</td>\n",
              "      <td>b'RT @kc_journalist: Elder Statesman, Tanko Ya...</td>\n",
              "      <td>elder statesman tanko yakassai drop bomb tinub...</td>\n",
              "      <td>negative</td>\n",
              "    </tr>\n",
              "    <tr>\n",
              "      <th>1</th>\n",
              "      <td>2</td>\n",
              "      <td>b'RT @novieverest: I have said it if APC had s...</td>\n",
              "      <td>say apc single dirt peter obi would easily use...</td>\n",
              "      <td>negative</td>\n",
              "    </tr>\n",
              "    <tr>\n",
              "      <th>2</th>\n",
              "      <td>6</td>\n",
              "      <td>b\"RT @DavidHundeyin: On election day, come out...</td>\n",
              "      <td>election day come large group tinubus hooligan...</td>\n",
              "      <td>negative</td>\n",
              "    </tr>\n",
              "    <tr>\n",
              "      <th>3</th>\n",
              "      <td>7</td>\n",
              "      <td>b'RT @KadunaResident: Peter Obi has taught Agb...</td>\n",
              "      <td>peter obi teach agbado tinubu show street cred...</td>\n",
              "      <td>positive</td>\n",
              "    </tr>\n",
              "    <tr>\n",
              "      <th>4</th>\n",
              "      <td>8</td>\n",
              "      <td>b'RT @PeterObi: Our most profound and heartfel...</td>\n",
              "      <td>profound heartfelt appreciation go people lago...</td>\n",
              "      <td>neutral</td>\n",
              "    </tr>\n",
              "    <tr>\n",
              "      <th>...</th>\n",
              "      <td>...</td>\n",
              "      <td>...</td>\n",
              "      <td>...</td>\n",
              "      <td>...</td>\n",
              "    </tr>\n",
              "    <tr>\n",
              "      <th>176623</th>\n",
              "      <td>2000217</td>\n",
              "      <td>b\"RT @usmanlade: Peter Obi Vs Asiwaju Rally in...</td>\n",
              "      <td>peter obi vs asiwaju rally kwara venue e didnt...</td>\n",
              "      <td>positive</td>\n",
              "    </tr>\n",
              "    <tr>\n",
              "      <th>176624</th>\n",
              "      <td>2000227</td>\n",
              "      <td>b'Vote Peter obi of #LP for a new Nigeria, dem...</td>\n",
              "      <td>peter obi lp new nigeria democracy politics pe...</td>\n",
              "      <td>neutral</td>\n",
              "    </tr>\n",
              "    <tr>\n",
              "      <th>176625</th>\n",
              "      <td>2000232</td>\n",
              "      <td>b'@AdaAnambra2023 The words on the streets now...</td>\n",
              "      <td>word street fuel nd naira note scarcity plot s...</td>\n",
              "      <td>negative</td>\n",
              "    </tr>\n",
              "    <tr>\n",
              "      <th>176626</th>\n",
              "      <td>2000235</td>\n",
              "      <td>b'RT @mrcow_enang: Las las, we will get sense ...</td>\n",
              "      <td>la las get sense force day presidential electi...</td>\n",
              "      <td>negative</td>\n",
              "    </tr>\n",
              "    <tr>\n",
              "      <th>176627</th>\n",
              "      <td>2000237</td>\n",
              "      <td>b'Happening right now at Abeokuta \\xf0\\x9f\\x94...</td>\n",
              "      <td>right abeokuta resident protest fuel cash scar...</td>\n",
              "      <td>negative</td>\n",
              "    </tr>\n",
              "  </tbody>\n",
              "</table>\n",
              "<p>176628 rows × 4 columns</p>\n",
              "</div>\n",
              "    <div class=\"colab-df-buttons\">\n",
              "\n",
              "  <div class=\"colab-df-container\">\n",
              "    <button class=\"colab-df-convert\" onclick=\"convertToInteractive('df-6856ea0d-71e8-437f-a935-ba2248cb4ae6')\"\n",
              "            title=\"Convert this dataframe to an interactive table.\"\n",
              "            style=\"display:none;\">\n",
              "\n",
              "  <svg xmlns=\"http://www.w3.org/2000/svg\" height=\"24px\" viewBox=\"0 -960 960 960\">\n",
              "    <path d=\"M120-120v-720h720v720H120Zm60-500h600v-160H180v160Zm220 220h160v-160H400v160Zm0 220h160v-160H400v160ZM180-400h160v-160H180v160Zm440 0h160v-160H620v160ZM180-180h160v-160H180v160Zm440 0h160v-160H620v160Z\"/>\n",
              "  </svg>\n",
              "    </button>\n",
              "\n",
              "  <style>\n",
              "    .colab-df-container {\n",
              "      display:flex;\n",
              "      gap: 12px;\n",
              "    }\n",
              "\n",
              "    .colab-df-convert {\n",
              "      background-color: #E8F0FE;\n",
              "      border: none;\n",
              "      border-radius: 50%;\n",
              "      cursor: pointer;\n",
              "      display: none;\n",
              "      fill: #1967D2;\n",
              "      height: 32px;\n",
              "      padding: 0 0 0 0;\n",
              "      width: 32px;\n",
              "    }\n",
              "\n",
              "    .colab-df-convert:hover {\n",
              "      background-color: #E2EBFA;\n",
              "      box-shadow: 0px 1px 2px rgba(60, 64, 67, 0.3), 0px 1px 3px 1px rgba(60, 64, 67, 0.15);\n",
              "      fill: #174EA6;\n",
              "    }\n",
              "\n",
              "    .colab-df-buttons div {\n",
              "      margin-bottom: 4px;\n",
              "    }\n",
              "\n",
              "    [theme=dark] .colab-df-convert {\n",
              "      background-color: #3B4455;\n",
              "      fill: #D2E3FC;\n",
              "    }\n",
              "\n",
              "    [theme=dark] .colab-df-convert:hover {\n",
              "      background-color: #434B5C;\n",
              "      box-shadow: 0px 1px 3px 1px rgba(0, 0, 0, 0.15);\n",
              "      filter: drop-shadow(0px 1px 2px rgba(0, 0, 0, 0.3));\n",
              "      fill: #FFFFFF;\n",
              "    }\n",
              "  </style>\n",
              "\n",
              "    <script>\n",
              "      const buttonEl =\n",
              "        document.querySelector('#df-6856ea0d-71e8-437f-a935-ba2248cb4ae6 button.colab-df-convert');\n",
              "      buttonEl.style.display =\n",
              "        google.colab.kernel.accessAllowed ? 'block' : 'none';\n",
              "\n",
              "      async function convertToInteractive(key) {\n",
              "        const element = document.querySelector('#df-6856ea0d-71e8-437f-a935-ba2248cb4ae6');\n",
              "        const dataTable =\n",
              "          await google.colab.kernel.invokeFunction('convertToInteractive',\n",
              "                                                    [key], {});\n",
              "        if (!dataTable) return;\n",
              "\n",
              "        const docLinkHtml = 'Like what you see? Visit the ' +\n",
              "          '<a target=\"_blank\" href=https://colab.research.google.com/notebooks/data_table.ipynb>data table notebook</a>'\n",
              "          + ' to learn more about interactive tables.';\n",
              "        element.innerHTML = '';\n",
              "        dataTable['output_type'] = 'display_data';\n",
              "        await google.colab.output.renderOutput(dataTable, element);\n",
              "        const docLink = document.createElement('div');\n",
              "        docLink.innerHTML = docLinkHtml;\n",
              "        element.appendChild(docLink);\n",
              "      }\n",
              "    </script>\n",
              "  </div>\n",
              "\n",
              "\n",
              "<div id=\"df-8dee92ad-87d4-4501-aabf-3d06249a92a6\">\n",
              "  <button class=\"colab-df-quickchart\" onclick=\"quickchart('df-8dee92ad-87d4-4501-aabf-3d06249a92a6')\"\n",
              "            title=\"Suggest charts\"\n",
              "            style=\"display:none;\">\n",
              "\n",
              "<svg xmlns=\"http://www.w3.org/2000/svg\" height=\"24px\"viewBox=\"0 0 24 24\"\n",
              "     width=\"24px\">\n",
              "    <g>\n",
              "        <path d=\"M19 3H5c-1.1 0-2 .9-2 2v14c0 1.1.9 2 2 2h14c1.1 0 2-.9 2-2V5c0-1.1-.9-2-2-2zM9 17H7v-7h2v7zm4 0h-2V7h2v10zm4 0h-2v-4h2v4z\"/>\n",
              "    </g>\n",
              "</svg>\n",
              "  </button>\n",
              "\n",
              "<style>\n",
              "  .colab-df-quickchart {\n",
              "      --bg-color: #E8F0FE;\n",
              "      --fill-color: #1967D2;\n",
              "      --hover-bg-color: #E2EBFA;\n",
              "      --hover-fill-color: #174EA6;\n",
              "      --disabled-fill-color: #AAA;\n",
              "      --disabled-bg-color: #DDD;\n",
              "  }\n",
              "\n",
              "  [theme=dark] .colab-df-quickchart {\n",
              "      --bg-color: #3B4455;\n",
              "      --fill-color: #D2E3FC;\n",
              "      --hover-bg-color: #434B5C;\n",
              "      --hover-fill-color: #FFFFFF;\n",
              "      --disabled-bg-color: #3B4455;\n",
              "      --disabled-fill-color: #666;\n",
              "  }\n",
              "\n",
              "  .colab-df-quickchart {\n",
              "    background-color: var(--bg-color);\n",
              "    border: none;\n",
              "    border-radius: 50%;\n",
              "    cursor: pointer;\n",
              "    display: none;\n",
              "    fill: var(--fill-color);\n",
              "    height: 32px;\n",
              "    padding: 0;\n",
              "    width: 32px;\n",
              "  }\n",
              "\n",
              "  .colab-df-quickchart:hover {\n",
              "    background-color: var(--hover-bg-color);\n",
              "    box-shadow: 0 1px 2px rgba(60, 64, 67, 0.3), 0 1px 3px 1px rgba(60, 64, 67, 0.15);\n",
              "    fill: var(--button-hover-fill-color);\n",
              "  }\n",
              "\n",
              "  .colab-df-quickchart-complete:disabled,\n",
              "  .colab-df-quickchart-complete:disabled:hover {\n",
              "    background-color: var(--disabled-bg-color);\n",
              "    fill: var(--disabled-fill-color);\n",
              "    box-shadow: none;\n",
              "  }\n",
              "\n",
              "  .colab-df-spinner {\n",
              "    border: 2px solid var(--fill-color);\n",
              "    border-color: transparent;\n",
              "    border-bottom-color: var(--fill-color);\n",
              "    animation:\n",
              "      spin 1s steps(1) infinite;\n",
              "  }\n",
              "\n",
              "  @keyframes spin {\n",
              "    0% {\n",
              "      border-color: transparent;\n",
              "      border-bottom-color: var(--fill-color);\n",
              "      border-left-color: var(--fill-color);\n",
              "    }\n",
              "    20% {\n",
              "      border-color: transparent;\n",
              "      border-left-color: var(--fill-color);\n",
              "      border-top-color: var(--fill-color);\n",
              "    }\n",
              "    30% {\n",
              "      border-color: transparent;\n",
              "      border-left-color: var(--fill-color);\n",
              "      border-top-color: var(--fill-color);\n",
              "      border-right-color: var(--fill-color);\n",
              "    }\n",
              "    40% {\n",
              "      border-color: transparent;\n",
              "      border-right-color: var(--fill-color);\n",
              "      border-top-color: var(--fill-color);\n",
              "    }\n",
              "    60% {\n",
              "      border-color: transparent;\n",
              "      border-right-color: var(--fill-color);\n",
              "    }\n",
              "    80% {\n",
              "      border-color: transparent;\n",
              "      border-right-color: var(--fill-color);\n",
              "      border-bottom-color: var(--fill-color);\n",
              "    }\n",
              "    90% {\n",
              "      border-color: transparent;\n",
              "      border-bottom-color: var(--fill-color);\n",
              "    }\n",
              "  }\n",
              "</style>\n",
              "\n",
              "  <script>\n",
              "    async function quickchart(key) {\n",
              "      const quickchartButtonEl =\n",
              "        document.querySelector('#' + key + ' button');\n",
              "      quickchartButtonEl.disabled = true;  // To prevent multiple clicks.\n",
              "      quickchartButtonEl.classList.add('colab-df-spinner');\n",
              "      try {\n",
              "        const charts = await google.colab.kernel.invokeFunction(\n",
              "            'suggestCharts', [key], {});\n",
              "      } catch (error) {\n",
              "        console.error('Error during call to suggestCharts:', error);\n",
              "      }\n",
              "      quickchartButtonEl.classList.remove('colab-df-spinner');\n",
              "      quickchartButtonEl.classList.add('colab-df-quickchart-complete');\n",
              "    }\n",
              "    (() => {\n",
              "      let quickchartButtonEl =\n",
              "        document.querySelector('#df-8dee92ad-87d4-4501-aabf-3d06249a92a6 button');\n",
              "      quickchartButtonEl.style.display =\n",
              "        google.colab.kernel.accessAllowed ? 'block' : 'none';\n",
              "    })();\n",
              "  </script>\n",
              "</div>\n",
              "    </div>\n",
              "  </div>\n"
            ],
            "text/plain": [
              "        Unnamed: 0                                         Tweet_Text  \\\n",
              "0                0  b'RT @kc_journalist: Elder Statesman, Tanko Ya...   \n",
              "1                2  b'RT @novieverest: I have said it if APC had s...   \n",
              "2                6  b\"RT @DavidHundeyin: On election day, come out...   \n",
              "3                7  b'RT @KadunaResident: Peter Obi has taught Agb...   \n",
              "4                8  b'RT @PeterObi: Our most profound and heartfel...   \n",
              "...            ...                                                ...   \n",
              "176623     2000217  b\"RT @usmanlade: Peter Obi Vs Asiwaju Rally in...   \n",
              "176624     2000227  b'Vote Peter obi of #LP for a new Nigeria, dem...   \n",
              "176625     2000232  b'@AdaAnambra2023 The words on the streets now...   \n",
              "176626     2000235  b'RT @mrcow_enang: Las las, we will get sense ...   \n",
              "176627     2000237  b'Happening right now at Abeokuta \\xf0\\x9f\\x94...   \n",
              "\n",
              "                                             cleaned_text Predict_label  \n",
              "0       elder statesman tanko yakassai drop bomb tinub...      negative  \n",
              "1       say apc single dirt peter obi would easily use...      negative  \n",
              "2       election day come large group tinubus hooligan...      negative  \n",
              "3       peter obi teach agbado tinubu show street cred...      positive  \n",
              "4       profound heartfelt appreciation go people lago...       neutral  \n",
              "...                                                   ...           ...  \n",
              "176623  peter obi vs asiwaju rally kwara venue e didnt...      positive  \n",
              "176624  peter obi lp new nigeria democracy politics pe...       neutral  \n",
              "176625  word street fuel nd naira note scarcity plot s...      negative  \n",
              "176626  la las get sense force day presidential electi...      negative  \n",
              "176627  right abeokuta resident protest fuel cash scar...      negative  \n",
              "\n",
              "[176628 rows x 4 columns]"
            ]
          },
          "execution_count": 9,
          "metadata": {},
          "output_type": "execute_result"
        }
      ],
      "source": [
        "Tinubu_data['Predict_label'] = new_predictions # store the generated list of sentiments and add to the original data\n",
        "\n",
        "Tinubu_data"
      ]
    },
    {
      "cell_type": "code",
      "execution_count": null,
      "metadata": {
        "colab": {
          "base_uri": "https://localhost:8080/"
        },
        "id": "ofEw5wNi23hC",
        "outputId": "d171e7b0-e677-4698-a34c-7cb3d1026df4"
      },
      "outputs": [
        {
          "output_type": "execute_result",
          "data": {
            "text/plain": [
              "positive    92047\n",
              "negative    47756\n",
              "neutral     36825\n",
              "Name: Predict_label, dtype: int64"
            ]
          },
          "metadata": {},
          "execution_count": 12
        }
      ],
      "source": [
        "Tinubu_data['Predict_label'].value_counts() # sentiment counts"
      ]
    },
    {
      "cell_type": "code",
      "execution_count": null,
      "metadata": {
        "colab": {
          "base_uri": "https://localhost:8080/",
          "height": 526
        },
        "id": "f0FJj4rU2Ne3",
        "outputId": "5f2b421f-050e-401d-b970-2708b530f395"
      },
      "outputs": [
        {
          "output_type": "execute_result",
          "data": {
            "text/plain": [
              "<Axes: title={'center': 'TINUBU SVM SENTIMENT ANALYSIS'}>"
            ]
          },
          "metadata": {},
          "execution_count": 13
        },
        {
          "output_type": "display_data",
          "data": {
            "text/plain": [
              "<Figure size 640x480 with 1 Axes>"
            ],
            "image/png": "[encoded data removed]"
          },
          "metadata": {}
        }
      ],
      "source": [
        "Tinubu_data['Predict_label'].value_counts().plot(kind ='bar', title = 'TINUBU SVM SENTIMENT ANALYSIS') #plot the Tinubu's sentiment graph"
      ]
    },
    {
      "cell_type": "code",
      "execution_count": null,
      "metadata": {
        "id": "wlch0ThisKFu"
      },
      "outputs": [],
      "source": [
        "Tinubu_data.to_csv('/content/drive/MyDrive/Project_codes/svm_output_tinubu.csv') #  save to project file"
      ]
    },
    {
      "cell_type": "code",
      "source": [
        "import matplotlib.pyplot as plt\n",
        "\n",
        "\n",
        "Tinubu_percentage_counts = (Tinubu_data['Predict_label'].value_counts(normalize=True) * 100).round(2)\n",
        "\n",
        "# Plotting the sentiment percentage\n",
        "Tinubu_percentage_counts.plot(kind='bar', title='Tinubu LSTM SENTIMENT ANALYSIS - Percentage')\n",
        "plt.ylabel('Percentage (%)')\n",
        "plt.show()"
      ],
      "metadata": {
        "colab": {
          "base_uri": "https://localhost:8080/",
          "height": 509
        },
        "id": "lblMO86t_AEC",
        "outputId": "423d482d-c2f7-42da-b6fa-563ec5849c26"
      },
      "execution_count": null,
      "outputs": [
        {
          "output_type": "display_data",
          "data": {
            "text/plain": [
              "<Figure size 640x480 with 1 Axes>"
            ],
            "image/png": "[encoded data removed]"
          },
          "metadata": {}
        }
      ]
    },
    {
      "cell_type": "code",
      "source": [
        "Tinubu_percentage_counts"
      ],
      "metadata": {
        "colab": {
          "base_uri": "https://localhost:8080/"
        },
        "id": "Q97q9Bn7JPdN",
        "outputId": "773e7596-2e2e-42e0-81f3-e9b0542d364d"
      },
      "execution_count": null,
      "outputs": [
        {
          "output_type": "execute_result",
          "data": {
            "text/plain": [
              "positive    52.03\n",
              "negative    27.35\n",
              "neutral     20.63\n",
              "Name: Predict_label, dtype: float64"
            ]
          },
          "metadata": {},
          "execution_count": 26
        }
      ]
    },
    {
      "cell_type": "markdown",
      "source": [
        "# OBI SVM SENTIMENT ANALYSIS"
      ],
      "metadata": {
        "id": "k-6f2NCf_Akg"
      }
    },
    {
      "cell_type": "code",
      "execution_count": null,
      "metadata": {
        "id": "DrSP3hy1BJ7p"
      },
      "outputs": [],
      "source": [
        "path =  '/content/drive/MyDrive/Project_codes/Obi_cleaned_dataset.csv'\n",
        "Obi_data = pd.read_csv(path) # Read in Obi's processed data from the project folder\n",
        "\n",
        "\n",
        "Obi_data = Obi_data.replace(np.nan, '', regex=True)\n",
        "Obi_text = Obi_data['cleaned_text'].tolist() # get the list of the cleaned text column and store in a variable\n",
        "\n",
        "new_features = vectorizer.transform(Obi_text)\n",
        "Obi_predictions = svm_classifier.predict(new_features) #generate Obi's sentiments\n",
        "\n"
      ]
    },
    {
      "cell_type": "code",
      "source": [
        "Obi_data['Predict_label'] = Obi_predictions # add the sentiments to Obi original data\n",
        "\n",
        "Obi_data"
      ],
      "metadata": {
        "id": "Tt6LHeJfFl8P"
      },
      "execution_count": null,
      "outputs": []
    },
    {
      "cell_type": "code",
      "source": [
        "Obi_data['Predict_label'].value_counts() #the Obi's sentiment count"
      ],
      "metadata": {
        "colab": {
          "base_uri": "https://localhost:8080/"
        },
        "id": "QR9zUFV5GCyd",
        "outputId": "d76390b8-a4fa-4b5a-a91b-0ab226196e69"
      },
      "execution_count": null,
      "outputs": [
        {
          "output_type": "execute_result",
          "data": {
            "text/plain": [
              "positive    114830\n",
              "negative     61849\n",
              "neutral      46983\n",
              "Name: Predict_label, dtype: int64"
            ]
          },
          "metadata": {},
          "execution_count": 16
        }
      ]
    },
    {
      "cell_type": "code",
      "source": [
        "Obi_data['Predict_label'].value_counts().plot(kind ='bar', title = 'OBI SVM SENTIMENT ANALYSIS') #plot the graph of the sentiments"
      ],
      "metadata": {
        "colab": {
          "base_uri": "https://localhost:8080/",
          "height": 526
        },
        "id": "eR7iUksqF7H3",
        "outputId": "fb2541e4-ce5a-4289-f40c-8f30425f978d"
      },
      "execution_count": null,
      "outputs": [
        {
          "output_type": "execute_result",
          "data": {
            "text/plain": [
              "<Axes: title={'center': 'OBI SVM SENTIMENT ANALYSIS'}>"
            ]
          },
          "metadata": {},
          "execution_count": 17
        },
        {
          "output_type": "display_data",
          "data": {
            "text/plain": [
              "<Figure size 640x480 with 1 Axes>"
            ],
            "image/png": "[encoded data removed]"
          },
          "metadata": {}
        }
      ]
    },
    {
      "cell_type": "code",
      "source": [
        "import matplotlib.pyplot as plt\n",
        "\n",
        "\n",
        "Obi_percentage_counts = (Obi_data['Predict_label'].value_counts(normalize=True) * 100).round(2)\n",
        "\n",
        "# Plotting the percentage of the Obi's sentiment\n",
        "Obi_percentage_counts.plot(kind='bar', title='OBI LSTM SENTIMENT ANALYSIS - Percentage')\n",
        "plt.ylabel('Percentage (%)')\n",
        "plt.show()"
      ],
      "metadata": {
        "colab": {
          "base_uri": "https://localhost:8080/",
          "height": 509
        },
        "id": "0_DyzLT8JU_1",
        "outputId": "f9103804-bad5-4b99-a4ce-6876e40cb554"
      },
      "execution_count": null,
      "outputs": [
        {
          "output_type": "display_data",
          "data": {
            "text/plain": [
              "<Figure size 640x480 with 1 Axes>"
            ],
            "image/png": "[encoded data removed]"
          },
          "metadata": {}
        }
      ]
    },
    {
      "cell_type": "code",
      "source": [
        "Obi_percentage_counts\n"
      ],
      "metadata": {
        "colab": {
          "base_uri": "https://localhost:8080/"
        },
        "outputId": "6dbd39b1-5a56-4ca8-c8ea-183cd6be933b",
        "id": "gBeD4QzpJjTu"
      },
      "execution_count": null,
      "outputs": [
        {
          "output_type": "execute_result",
          "data": {
            "text/plain": [
              "positive    51.34\n",
              "negative    27.65\n",
              "neutral     21.01\n",
              "Name: Predict_label, dtype: float64"
            ]
          },
          "metadata": {},
          "execution_count": 19
        }
      ]
    },
    {
      "cell_type": "markdown",
      "source": [
        "## ATIKU'S SVM SENTIMENT ANALYSIS"
      ],
      "metadata": {
        "id": "MSbFTu2gGM5P"
      }
    },
    {
      "cell_type": "code",
      "source": [
        "path =  '/content/drive/MyDrive/Project_codes/Atiku_cleaned_dataset.csv'\n",
        "Atiku_data = pd.read_csv(path) # access Atiku's processed data from the project file\n",
        "\n",
        "\n",
        "Atiku_data = Atiku_data.replace(np.nan, '', regex=True)\n",
        "Atiku_text = Atiku_data['cleaned_text'].tolist() # store the list of the Atiku's cleaned text column as a list\n",
        "\n",
        "new_features = vectorizer.transform(Atiku_text)\n",
        "Atiku_predictions = svm_classifier.predict(new_features) # apply the model to the Atiku's list of cleaned text to generate the sentiment"
      ],
      "metadata": {
        "id": "ER5xd3VIGIpH"
      },
      "execution_count": null,
      "outputs": []
    },
    {
      "cell_type": "code",
      "source": [
        "Atiku_data['Predict_label'] = Atiku_predictions # create the predicted label column and add it to the original data\n",
        "\n",
        "Atiku_data"
      ],
      "metadata": {
        "colab": {
          "base_uri": "https://localhost:8080/",
          "height": 424
        },
        "id": "S_yQIe15F2WW",
        "outputId": "52615e5d-02dc-4674-beb4-77bbcb757b36"
      },
      "execution_count": null,
      "outputs": [
        {
          "output_type": "execute_result",
          "data": {
            "text/plain": [
              "       Unnamed: 0                                         Tweet_Text  \\\n",
              "0               0  b'RT @kc_journalist: Elder Statesman, Tanko Ya...   \n",
              "1              38  b'RT @EstherOkokon3: @DailyPostNGR But you Kwa...   \n",
              "2              52  b'@asconambassador The first time vote out APC...   \n",
              "3              60  b'RT @MimiUhiene: Atiku Won\\xe2\\x80\\x99t Win B...   \n",
              "4              95  b'RT @VictorIsrael_: Tinubu went to his campai...   \n",
              "...           ...                                                ...   \n",
              "31849     1999957  b'No poll has projected APC to win the 2023 el...   \n",
              "31850     1999990  b'@atiku As The Wings Of The Unifier, #AtikuYo...   \n",
              "31851     2000016  b\"@HAHayatu North expecially core North has al...   \n",
              "31852     2000065  b'#Trending: Inec to Postpone Election | Insec...   \n",
              "31853     2000146  b\"We've suffered enough from APC government \\x...   \n",
              "\n",
              "                                            cleaned_text Predict_label  \n",
              "0      elder statesman tanko yakassai drop bomb tinub...      negative  \n",
              "1      dailypostngr kwankwaso win without merge nah w...      positive  \n",
              "2      first time vote apc 2019 best time 2023 yoruba...      positive  \n",
              "3      atiku wont win 22 apc governor 5 pdp governor ...      positive  \n",
              "4      tinubu go campaign rally insult peter obi danc...      negative  \n",
              "...                                                  ...           ...  \n",
              "31849  poll project apc win 2023 election anap poll p...      positive  \n",
              "31850  wing unifier atikuyouthwing tell fact bauchi s...       neutral  \n",
              "31851  north ecially core north always power hungry d...      positive  \n",
              "31852  inec postpone election insecurity click watch ...      negative  \n",
              "31853  suffer enough apc government nigerian quick fo...      negative  \n",
              "\n",
              "[31854 rows x 4 columns]"
            ],
            "text/html": [
              "\n",
              "  <div id=\"df-7ce01554-2617-477b-b510-85f0fe99d27d\" class=\"colab-df-container\">\n",
              "    <div>\n",
              "<style scoped>\n",
              "    .dataframe tbody tr th:only-of-type {\n",
              "        vertical-align: middle;\n",
              "    }\n",
              "\n",
              "    .dataframe tbody tr th {\n",
              "        vertical-align: top;\n",
              "    }\n",
              "\n",
              "    .dataframe thead th {\n",
              "        text-align: right;\n",
              "    }\n",
              "</style>\n",
              "<table border=\"1\" class=\"dataframe\">\n",
              "  <thead>\n",
              "    <tr style=\"text-align: right;\">\n",
              "      <th></th>\n",
              "      <th>Unnamed: 0</th>\n",
              "      <th>Tweet_Text</th>\n",
              "      <th>cleaned_text</th>\n",
              "      <th>Predict_label</th>\n",
              "    </tr>\n",
              "  </thead>\n",
              "  <tbody>\n",
              "    <tr>\n",
              "      <th>0</th>\n",
              "      <td>0</td>\n",
              "      <td>b'RT @kc_journalist: Elder Statesman, Tanko Ya...</td>\n",
              "      <td>elder statesman tanko yakassai drop bomb tinub...</td>\n",
              "      <td>negative</td>\n",
              "    </tr>\n",
              "    <tr>\n",
              "      <th>1</th>\n",
              "      <td>38</td>\n",
              "      <td>b'RT @EstherOkokon3: @DailyPostNGR But you Kwa...</td>\n",
              "      <td>dailypostngr kwankwaso win without merge nah w...</td>\n",
              "      <td>positive</td>\n",
              "    </tr>\n",
              "    <tr>\n",
              "      <th>2</th>\n",
              "      <td>52</td>\n",
              "      <td>b'@asconambassador The first time vote out APC...</td>\n",
              "      <td>first time vote apc 2019 best time 2023 yoruba...</td>\n",
              "      <td>positive</td>\n",
              "    </tr>\n",
              "    <tr>\n",
              "      <th>3</th>\n",
              "      <td>60</td>\n",
              "      <td>b'RT @MimiUhiene: Atiku Won\\xe2\\x80\\x99t Win B...</td>\n",
              "      <td>atiku wont win 22 apc governor 5 pdp governor ...</td>\n",
              "      <td>positive</td>\n",
              "    </tr>\n",
              "    <tr>\n",
              "      <th>4</th>\n",
              "      <td>95</td>\n",
              "      <td>b'RT @VictorIsrael_: Tinubu went to his campai...</td>\n",
              "      <td>tinubu go campaign rally insult peter obi danc...</td>\n",
              "      <td>negative</td>\n",
              "    </tr>\n",
              "    <tr>\n",
              "      <th>...</th>\n",
              "      <td>...</td>\n",
              "      <td>...</td>\n",
              "      <td>...</td>\n",
              "      <td>...</td>\n",
              "    </tr>\n",
              "    <tr>\n",
              "      <th>31849</th>\n",
              "      <td>1999957</td>\n",
              "      <td>b'No poll has projected APC to win the 2023 el...</td>\n",
              "      <td>poll project apc win 2023 election anap poll p...</td>\n",
              "      <td>positive</td>\n",
              "    </tr>\n",
              "    <tr>\n",
              "      <th>31850</th>\n",
              "      <td>1999990</td>\n",
              "      <td>b'@atiku As The Wings Of The Unifier, #AtikuYo...</td>\n",
              "      <td>wing unifier atikuyouthwing tell fact bauchi s...</td>\n",
              "      <td>neutral</td>\n",
              "    </tr>\n",
              "    <tr>\n",
              "      <th>31851</th>\n",
              "      <td>2000016</td>\n",
              "      <td>b\"@HAHayatu North expecially core North has al...</td>\n",
              "      <td>north ecially core north always power hungry d...</td>\n",
              "      <td>positive</td>\n",
              "    </tr>\n",
              "    <tr>\n",
              "      <th>31852</th>\n",
              "      <td>2000065</td>\n",
              "      <td>b'#Trending: Inec to Postpone Election | Insec...</td>\n",
              "      <td>inec postpone election insecurity click watch ...</td>\n",
              "      <td>negative</td>\n",
              "    </tr>\n",
              "    <tr>\n",
              "      <th>31853</th>\n",
              "      <td>2000146</td>\n",
              "      <td>b\"We've suffered enough from APC government \\x...</td>\n",
              "      <td>suffer enough apc government nigerian quick fo...</td>\n",
              "      <td>negative</td>\n",
              "    </tr>\n",
              "  </tbody>\n",
              "</table>\n",
              "<p>31854 rows × 4 columns</p>\n",
              "</div>\n",
              "    <div class=\"colab-df-buttons\">\n",
              "\n",
              "  <div class=\"colab-df-container\">\n",
              "    <button class=\"colab-df-convert\" onclick=\"convertToInteractive('df-7ce01554-2617-477b-b510-85f0fe99d27d')\"\n",
              "            title=\"Convert this dataframe to an interactive table.\"\n",
              "            style=\"display:none;\">\n",
              "\n",
              "  <svg xmlns=\"http://www.w3.org/2000/svg\" height=\"24px\" viewBox=\"0 -960 960 960\">\n",
              "    <path d=\"M120-120v-720h720v720H120Zm60-500h600v-160H180v160Zm220 220h160v-160H400v160Zm0 220h160v-160H400v160ZM180-400h160v-160H180v160Zm440 0h160v-160H620v160ZM180-180h160v-160H180v160Zm440 0h160v-160H620v160Z\"/>\n",
              "  </svg>\n",
              "    </button>\n",
              "\n",
              "  <style>\n",
              "    .colab-df-container {\n",
              "      display:flex;\n",
              "      gap: 12px;\n",
              "    }\n",
              "\n",
              "    .colab-df-convert {\n",
              "      background-color: #E8F0FE;\n",
              "      border: none;\n",
              "      border-radius: 50%;\n",
              "      cursor: pointer;\n",
              "      display: none;\n",
              "      fill: #1967D2;\n",
              "      height: 32px;\n",
              "      padding: 0 0 0 0;\n",
              "      width: 32px;\n",
              "    }\n",
              "\n",
              "    .colab-df-convert:hover {\n",
              "      background-color: #E2EBFA;\n",
              "      box-shadow: 0px 1px 2px rgba(60, 64, 67, 0.3), 0px 1px 3px 1px rgba(60, 64, 67, 0.15);\n",
              "      fill: #174EA6;\n",
              "    }\n",
              "\n",
              "    .colab-df-buttons div {\n",
              "      margin-bottom: 4px;\n",
              "    }\n",
              "\n",
              "    [theme=dark] .colab-df-convert {\n",
              "      background-color: #3B4455;\n",
              "      fill: #D2E3FC;\n",
              "    }\n",
              "\n",
              "    [theme=dark] .colab-df-convert:hover {\n",
              "      background-color: #434B5C;\n",
              "      box-shadow: 0px 1px 3px 1px rgba(0, 0, 0, 0.15);\n",
              "      filter: drop-shadow(0px 1px 2px rgba(0, 0, 0, 0.3));\n",
              "      fill: #FFFFFF;\n",
              "    }\n",
              "  </style>\n",
              "\n",
              "    <script>\n",
              "      const buttonEl =\n",
              "        document.querySelector('#df-7ce01554-2617-477b-b510-85f0fe99d27d button.colab-df-convert');\n",
              "      buttonEl.style.display =\n",
              "        google.colab.kernel.accessAllowed ? 'block' : 'none';\n",
              "\n",
              "      async function convertToInteractive(key) {\n",
              "        const element = document.querySelector('#df-7ce01554-2617-477b-b510-85f0fe99d27d');\n",
              "        const dataTable =\n",
              "          await google.colab.kernel.invokeFunction('convertToInteractive',\n",
              "                                                    [key], {});\n",
              "        if (!dataTable) return;\n",
              "\n",
              "        const docLinkHtml = 'Like what you see? Visit the ' +\n",
              "          '<a target=\"_blank\" href=https://colab.research.google.com/notebooks/data_table.ipynb>data table notebook</a>'\n",
              "          + ' to learn more about interactive tables.';\n",
              "        element.innerHTML = '';\n",
              "        dataTable['output_type'] = 'display_data';\n",
              "        await google.colab.output.renderOutput(dataTable, element);\n",
              "        const docLink = document.createElement('div');\n",
              "        docLink.innerHTML = docLinkHtml;\n",
              "        element.appendChild(docLink);\n",
              "      }\n",
              "    </script>\n",
              "  </div>\n",
              "\n",
              "\n",
              "<div id=\"df-2c135381-5c3a-400f-a888-9a75114c8f90\">\n",
              "  <button class=\"colab-df-quickchart\" onclick=\"quickchart('df-2c135381-5c3a-400f-a888-9a75114c8f90')\"\n",
              "            title=\"Suggest charts\"\n",
              "            style=\"display:none;\">\n",
              "\n",
              "<svg xmlns=\"http://www.w3.org/2000/svg\" height=\"24px\"viewBox=\"0 0 24 24\"\n",
              "     width=\"24px\">\n",
              "    <g>\n",
              "        <path d=\"M19 3H5c-1.1 0-2 .9-2 2v14c0 1.1.9 2 2 2h14c1.1 0 2-.9 2-2V5c0-1.1-.9-2-2-2zM9 17H7v-7h2v7zm4 0h-2V7h2v10zm4 0h-2v-4h2v4z\"/>\n",
              "    </g>\n",
              "</svg>\n",
              "  </button>\n",
              "\n",
              "<style>\n",
              "  .colab-df-quickchart {\n",
              "      --bg-color: #E8F0FE;\n",
              "      --fill-color: #1967D2;\n",
              "      --hover-bg-color: #E2EBFA;\n",
              "      --hover-fill-color: #174EA6;\n",
              "      --disabled-fill-color: #AAA;\n",
              "      --disabled-bg-color: #DDD;\n",
              "  }\n",
              "\n",
              "  [theme=dark] .colab-df-quickchart {\n",
              "      --bg-color: #3B4455;\n",
              "      --fill-color: #D2E3FC;\n",
              "      --hover-bg-color: #434B5C;\n",
              "      --hover-fill-color: #FFFFFF;\n",
              "      --disabled-bg-color: #3B4455;\n",
              "      --disabled-fill-color: #666;\n",
              "  }\n",
              "\n",
              "  .colab-df-quickchart {\n",
              "    background-color: var(--bg-color);\n",
              "    border: none;\n",
              "    border-radius: 50%;\n",
              "    cursor: pointer;\n",
              "    display: none;\n",
              "    fill: var(--fill-color);\n",
              "    height: 32px;\n",
              "    padding: 0;\n",
              "    width: 32px;\n",
              "  }\n",
              "\n",
              "  .colab-df-quickchart:hover {\n",
              "    background-color: var(--hover-bg-color);\n",
              "    box-shadow: 0 1px 2px rgba(60, 64, 67, 0.3), 0 1px 3px 1px rgba(60, 64, 67, 0.15);\n",
              "    fill: var(--button-hover-fill-color);\n",
              "  }\n",
              "\n",
              "  .colab-df-quickchart-complete:disabled,\n",
              "  .colab-df-quickchart-complete:disabled:hover {\n",
              "    background-color: var(--disabled-bg-color);\n",
              "    fill: var(--disabled-fill-color);\n",
              "    box-shadow: none;\n",
              "  }\n",
              "\n",
              "  .colab-df-spinner {\n",
              "    border: 2px solid var(--fill-color);\n",
              "    border-color: transparent;\n",
              "    border-bottom-color: var(--fill-color);\n",
              "    animation:\n",
              "      spin 1s steps(1) infinite;\n",
              "  }\n",
              "\n",
              "  @keyframes spin {\n",
              "    0% {\n",
              "      border-color: transparent;\n",
              "      border-bottom-color: var(--fill-color);\n",
              "      border-left-color: var(--fill-color);\n",
              "    }\n",
              "    20% {\n",
              "      border-color: transparent;\n",
              "      border-left-color: var(--fill-color);\n",
              "      border-top-color: var(--fill-color);\n",
              "    }\n",
              "    30% {\n",
              "      border-color: transparent;\n",
              "      border-left-color: var(--fill-color);\n",
              "      border-top-color: var(--fill-color);\n",
              "      border-right-color: var(--fill-color);\n",
              "    }\n",
              "    40% {\n",
              "      border-color: transparent;\n",
              "      border-right-color: var(--fill-color);\n",
              "      border-top-color: var(--fill-color);\n",
              "    }\n",
              "    60% {\n",
              "      border-color: transparent;\n",
              "      border-right-color: var(--fill-color);\n",
              "    }\n",
              "    80% {\n",
              "      border-color: transparent;\n",
              "      border-right-color: var(--fill-color);\n",
              "      border-bottom-color: var(--fill-color);\n",
              "    }\n",
              "    90% {\n",
              "      border-color: transparent;\n",
              "      border-bottom-color: var(--fill-color);\n",
              "    }\n",
              "  }\n",
              "</style>\n",
              "\n",
              "  <script>\n",
              "    async function quickchart(key) {\n",
              "      const quickchartButtonEl =\n",
              "        document.querySelector('#' + key + ' button');\n",
              "      quickchartButtonEl.disabled = true;  // To prevent multiple clicks.\n",
              "      quickchartButtonEl.classList.add('colab-df-spinner');\n",
              "      try {\n",
              "        const charts = await google.colab.kernel.invokeFunction(\n",
              "            'suggestCharts', [key], {});\n",
              "      } catch (error) {\n",
              "        console.error('Error during call to suggestCharts:', error);\n",
              "      }\n",
              "      quickchartButtonEl.classList.remove('colab-df-spinner');\n",
              "      quickchartButtonEl.classList.add('colab-df-quickchart-complete');\n",
              "    }\n",
              "    (() => {\n",
              "      let quickchartButtonEl =\n",
              "        document.querySelector('#df-2c135381-5c3a-400f-a888-9a75114c8f90 button');\n",
              "      quickchartButtonEl.style.display =\n",
              "        google.colab.kernel.accessAllowed ? 'block' : 'none';\n",
              "    })();\n",
              "  </script>\n",
              "</div>\n",
              "    </div>\n",
              "  </div>\n"
            ]
          },
          "metadata": {},
          "execution_count": 20
        }
      ]
    },
    {
      "cell_type": "code",
      "source": [
        "Atiku_data['Predict_label'].value_counts() # the count of the Atiku sentiments' category"
      ],
      "metadata": {
        "colab": {
          "base_uri": "https://localhost:8080/"
        },
        "id": "gXI4Fn5bHu9_",
        "outputId": "355785e3-0e72-48bc-d732-83169aa89588"
      },
      "execution_count": null,
      "outputs": [
        {
          "output_type": "execute_result",
          "data": {
            "text/plain": [
              "positive    18311\n",
              "neutral      7056\n",
              "negative     6487\n",
              "Name: Predict_label, dtype: int64"
            ]
          },
          "metadata": {},
          "execution_count": 21
        }
      ]
    },
    {
      "cell_type": "code",
      "source": [
        "Atiku_data['Predict_label'].value_counts().plot(kind ='bar', title = 'ATIKU SVM SENTIMENT ANALYSIS') #plot the sentiment graph"
      ],
      "metadata": {
        "colab": {
          "base_uri": "https://localhost:8080/",
          "height": 526
        },
        "id": "o5yCnlrHGqvO",
        "outputId": "0fcfdbd8-01fc-4de3-d015-7bd4b0da222c"
      },
      "execution_count": null,
      "outputs": [
        {
          "output_type": "execute_result",
          "data": {
            "text/plain": [
              "<Axes: title={'center': 'ATIKU SVM SENTIMENT ANALYSIS'}>"
            ]
          },
          "metadata": {},
          "execution_count": 23
        },
        {
          "output_type": "display_data",
          "data": {
            "text/plain": [
              "<Figure size 640x480 with 1 Axes>"
            ],
            "image/png": "[encoded data removed]"
          },
          "metadata": {}
        }
      ]
    },
    {
      "cell_type": "code",
      "source": [
        "import matplotlib.pyplot as plt\n",
        "\n",
        "\n",
        "Atiku_percentage_counts = (Atiku_data['Predict_label'].value_counts(normalize=True) * 100).round(2)\n",
        "\n",
        "# Plotting the Atiku percentages graph\n",
        "Obi_percentage_counts.plot(kind='bar', title='ATIKU LSTM SENTIMENT ANALYSIS - Percentage')\n",
        "plt.ylabel('Percentage (%)')\n",
        "plt.show()"
      ],
      "metadata": {
        "colab": {
          "base_uri": "https://localhost:8080/",
          "height": 509
        },
        "id": "0S4nEYoaJ8KG",
        "outputId": "9cb4fb17-4c6c-4d4e-8eec-5b21e884978c"
      },
      "execution_count": null,
      "outputs": [
        {
          "output_type": "display_data",
          "data": {
            "text/plain": [
              "<Figure size 640x480 with 1 Axes>"
            ],
            "image/png": "[encoded data removed]"
          },
          "metadata": {}
        }
      ]
    },
    {
      "cell_type": "code",
      "source": [
        "Atiku_percentage_counts"
      ],
      "metadata": {
        "colab": {
          "base_uri": "https://localhost:8080/"
        },
        "id": "fgh1Kbq1KIlH",
        "outputId": "45302f1f-0290-4fa3-fe09-d105107500a0"
      },
      "execution_count": null,
      "outputs": [
        {
          "output_type": "execute_result",
          "data": {
            "text/plain": [
              "positive    57.48\n",
              "neutral     22.15\n",
              "negative    20.36\n",
              "Name: Predict_label, dtype: float64"
            ]
          },
          "metadata": {},
          "execution_count": 25
        }
      ]
    },
    {
      "cell_type": "markdown",
      "source": [],
      "metadata": {
        "id": "wXq4_yYy2y9b"
      }
    },
    {
      "cell_type": "markdown",
      "source": [
        "# **Comparative analysis of the three candidates**"
      ],
      "metadata": {
        "id": "iMv9GkTf2y-4"
      }
    },
    {
      "cell_type": "code",
      "source": [
        "# Get Tinubu's data\n",
        "Tinubu_predicted_count = Tinubu_data['Predict_label'].value_counts()\n",
        "Tinubu_data['Predict_label'].value_counts()"
      ],
      "metadata": {
        "colab": {
          "base_uri": "https://localhost:8080/"
        },
        "id": "gN_5NoQftj3A",
        "outputId": "fdf43a12-7b0d-4f29-eedc-44bf14d5cd78"
      },
      "execution_count": null,
      "outputs": [
        {
          "output_type": "execute_result",
          "data": {
            "text/plain": [
              "positive    92047\n",
              "negative    47756\n",
              "neutral     36825\n",
              "Name: Predict_label, dtype: int64"
            ]
          },
          "metadata": {},
          "execution_count": 19
        }
      ]
    },
    {
      "cell_type": "code",
      "source": [
        "# Get Obi's data\n",
        "Obi_predicted_count = Obi_data['Predict_label'].value_counts()\n",
        "Obi_data['Predict_label'].value_counts()"
      ],
      "metadata": {
        "colab": {
          "base_uri": "https://localhost:8080/"
        },
        "id": "_bHlQq5NtcNH",
        "outputId": "b9ddfd21-dea4-4978-a47f-097473545af1"
      },
      "execution_count": null,
      "outputs": [
        {
          "output_type": "execute_result",
          "data": {
            "text/plain": [
              "positive    114830\n",
              "negative     61849\n",
              "neutral      46983\n",
              "Name: Predict_label, dtype: int64"
            ]
          },
          "metadata": {},
          "execution_count": 18
        }
      ]
    },
    {
      "cell_type": "code",
      "source": [
        "# Get Atiku's data\n",
        "Atiku_predicted_count = Atiku_data['Predict_label'].value_counts()\n",
        "Atiku_data['Predict_label'].value_counts()"
      ],
      "metadata": {
        "colab": {
          "base_uri": "https://localhost:8080/"
        },
        "id": "KhDCQGWjtMmK",
        "outputId": "75a91e25-f394-49c6-8be6-27672a280b0f"
      },
      "execution_count": null,
      "outputs": [
        {
          "output_type": "execute_result",
          "data": {
            "text/plain": [
              "positive    18311\n",
              "neutral      7056\n",
              "negative     6487\n",
              "Name: Predict_label, dtype: int64"
            ]
          },
          "metadata": {},
          "execution_count": 22
        }
      ]
    },
    {
      "cell_type": "code",
      "source": [
        "import matplotlib.pyplot as plt\n",
        "import numpy as np\n",
        "\n",
        "# list of three names\n",
        "labels = ['Tinubu', 'Obi', 'Atiku']\n",
        "# list of the unqiue sentiments\n",
        "categories = ['positive', 'negative', 'neutral']\n",
        "\n",
        "# Counts for each category within each name\n",
        "data = np.array([\n",
        "    [Tinubu_predicted_count['positive'], Tinubu_predicted_count['negative'], Tinubu_predicted_count['neutral']],  # Tinubu\n",
        "    [Obi_predicted_count['positive'], Obi_predicted_count['negative'], Obi_predicted_count['neutral']],  #Obi\n",
        "    [Atiku_predicted_count['positive'], Atiku_predicted_count['negative'], Atiku_predicted_count['neutral']],  # Atiku\n",
        "])\n",
        "\n",
        "# Calculate overall counts for each category\n",
        "overall_category_counts = np.sum(data, axis=0)\n",
        "\n",
        "# Calculate relative percentages\n",
        "relative_percentages = (data / overall_category_counts) * 100\n",
        "\n",
        "# Plotting\n",
        "fig, ax = plt.subplots()\n",
        "\n",
        "# Plot stacked bar chart\n",
        "bar_width = 0.25\n",
        "bar_positions = np.arange(len(labels))\n",
        "\n",
        "for i, category in enumerate(categories):\n",
        "    ax.bar(bar_positions + i * bar_width, relative_percentages[:, i], width=bar_width, label=f'{category} Percentage')\n",
        "\n",
        "# Modifying the bar abd legends labels\n",
        "ax.set_ylabel('Percentage')\n",
        "ax.set_title('SVM Relative Percentages of sentiments for each Presidential Candidates')\n",
        "ax.set_xticks(bar_positions + (len(categories) - 1) * bar_width / 2)\n",
        "ax.set_xticklabels(labels)\n",
        "legend = ax.legend(fontsize='small', bbox_to_anchor=(1, 1))  # Adjust bbox_to_anchor to position the legend\n",
        "\n",
        "# Display percentages on top of bars with reduced font size\n",
        "for i, bar_position in enumerate(bar_positions):\n",
        "    for j, category in enumerate(categories):\n",
        "        yval = relative_percentages[i, j]\n",
        "        ax.text(bar_position + j * bar_width, yval + 1, f'{yval:.2f}%', ha='center', va='bottom', fontsize=8)\n",
        "\n",
        "plt.show()\n"
      ],
      "metadata": {
        "colab": {
          "base_uri": "https://localhost:8080/",
          "height": 457
        },
        "id": "gQHsCW_gv5Fh",
        "outputId": "b0c41ced-2868-49e1-bbe9-37ecc9cce99c"
      },
      "execution_count": null,
      "outputs": [
        {
          "output_type": "display_data",
          "data": {
            "text/plain": [
              "<Figure size 640x480 with 1 Axes>"
            ],
            "image/png": "[encoded data removed]"
          },
          "metadata": {}
        }
      ]
    },
    {
      "cell_type": "code",
      "source": [
        "import matplotlib.pyplot as plt\n",
        "import numpy as np\n",
        "\n",
        "# list of the 3 names\n",
        "labels = ['Tinubu', 'Obi', 'Atiku']\n",
        "# list of the unique category\n",
        "categories = ['positive', 'negative', 'neutral']\n",
        "\n",
        "# Percentages for each category within each name\n",
        "data = np.array([\n",
        "    [Tinubu_predicted_count['positive'], Tinubu_predicted_count['negative'], Tinubu_predicted_count['neutral']],  # Label 1\n",
        "    [Obi_predicted_count['positive'], Obi_predicted_count['negative'], Obi_predicted_count['neutral']],  # Label 2\n",
        "    [Atiku_predicted_count['positive'], Atiku_predicted_count['negative'], Atiku_predicted_count['neutral']],  # Label 3\n",
        "])\n",
        "\n",
        "# Calculate overall percentages for each name\n",
        "overall_percentages = np.sum(data, axis=1)\n",
        "\n",
        "# Normalize data to get relative percentages\n",
        "normalized_data = (data.T / overall_percentages).T * 100\n",
        "\n",
        "# Plotting\n",
        "fig, ax = plt.subplots()\n",
        "\n",
        "# Plot stacked bar chart\n",
        "bar_width = 0.25\n",
        "bar_positions = np.arange(len(labels))\n",
        "\n",
        "for i, category in enumerate(categories):\n",
        "    ax.bar(bar_positions + i * bar_width, normalized_data[:, i], width=bar_width, label=f'{category} Percentage')\n",
        "\n",
        "# Adding labels\n",
        "ax.set_ylabel('Percentage')\n",
        "ax.set_title('SVM Relative Percentages of 3 Categories for Within each of Candidates')\n",
        "ax.set_xticks(bar_positions + (len(categories) - 1) * bar_width / 2)\n",
        "ax.set_xticklabels(labels)\n",
        "legend = ax.legend(fontsize='small', bbox_to_anchor=(1, 1))  # Adjust bbox_to_anchor to position the legend\n",
        "\n",
        "# Display percentages on top of bars\n",
        "for i, bar_position in enumerate(bar_positions):\n",
        "    for j, category in enumerate(categories):\n",
        "        yval = normalized_data[i, j]\n",
        "        ax.text(bar_position + j * bar_width, yval + 1, f'{yval:.2f}%', ha='center', va='bottom')\n",
        "\n",
        "plt.show()\n",
        "\n",
        "\n"
      ],
      "metadata": {
        "colab": {
          "base_uri": "https://localhost:8080/",
          "height": 457
        },
        "id": "BirD0On1B-4-",
        "outputId": "b8ec61f4-5525-4bd5-d8ea-c12e257164d4"
      },
      "execution_count": null,
      "outputs": [
        {
          "output_type": "display_data",
          "data": {
            "text/plain": [
              "<Figure size 640x480 with 1 Axes>"
            ],
            "image/png": "[encoded data removed]"
          },
          "metadata": {}
        }
      ]
    }
  ],
  "metadata": {
    "accelerator": "TPU",
    "colab": {
      "provenance": [],
      "authorship_tag": "ABX9TyNEvnzZczkwrvOK7CqbhUkW",
      "include_colab_link": true
    },
    "kernelspec": {
      "display_name": "Python 3",
      "name": "python3"
    },
    "language_info": {
      "name": "python"
    }
  },
  "nbformat": 4,
  "nbformat_minor": 0
}